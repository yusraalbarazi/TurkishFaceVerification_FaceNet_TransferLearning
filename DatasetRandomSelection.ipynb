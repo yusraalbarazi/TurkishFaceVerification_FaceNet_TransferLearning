{
 "cells": [
  {
   "cell_type": "code",
   "execution_count": null,
   "id": "d0282a01",
   "metadata": {},
   "outputs": [],
   "source": [
    "from collections import defaultdict\n",
    "import numpy as np\n",
    "import pickle\n",
    "import cv2\n",
    "import os\n",
    "import random\n",
    "import numpy as np\n",
    "np.random.seed(221)"
   ]
  },
  {
   "cell_type": "raw",
   "id": "418c90e6",
   "metadata": {},
   "source": [
    "random.seed(452)"
   ]
  },
  {
   "cell_type": "code",
   "execution_count": null,
   "id": "d17d1e5d",
   "metadata": {},
   "outputs": [],
   "source": [
    "def cluster_by_similarity(labels, typeOfPic):\n",
    "    clusters = defaultdict(list)\n",
    "\n",
    "    if typeOfPic == \"bio\":\n",
    "        for label in labels:\n",
    "            \n",
    "            person = label[:label.index(\"bio\")]\n",
    "            clusters[person].append(label)\n",
    "                \n",
    "    elif typeOfPic == \"selfie\":\n",
    "        for label in labels:\n",
    "            \n",
    "            if \"glass\" in label or \"noGlass\" in label:\n",
    "                person = label.split(\".\")[0].split(\"_\")\n",
    "                person = person[0]+person[1]+person[2]+person[3]+person[4]\n",
    "            else:\n",
    "                person = label.split(\".\")[0].split(\"_\")\n",
    "                person = person[0]+person[1]+person[2]+person[3]\n",
    "            \n",
    "            clusters[person].append(label)\n",
    "            \n",
    "    return list(clusters.values())"
   ]
  },
  {
   "cell_type": "code",
   "execution_count": null,
   "id": "44adfc7d",
   "metadata": {},
   "outputs": [],
   "source": []
  },
  {
   "cell_type": "code",
   "execution_count": null,
   "id": "ad331b34",
   "metadata": {},
   "outputs": [],
   "source": [
    "dataset_collectedRandomly = dict()"
   ]
  },
  {
   "cell_type": "code",
   "execution_count": null,
   "id": "52b09b2c",
   "metadata": {},
   "outputs": [],
   "source": []
  },
  {
   "cell_type": "code",
   "execution_count": null,
   "id": "2ab27b55",
   "metadata": {
    "scrolled": true
   },
   "outputs": [],
   "source": [
    "path_to_all_flods = 'datatest\\\\Training\\\\'\n",
    "# CHANGE THE PATH ABOVE\n",
    "\n",
    "\n",
    "for flodname in os.listdir(path_to_all_flods):\n",
    "    pickleFileFullPath = os.path.join(path_to_all_flods, flodname)\n",
    "    with open(pickleFileFullPath, \"rb\") as f:\n",
    "        flod = pickle.load(f)\n",
    "    \n",
    "    all_bios_current_flod = []\n",
    "    all_selfies_current_flod = []\n",
    "    \n",
    "    for pic_label in flod.keys():\n",
    "        if \"bio\" in pic_label:\n",
    "            all_bios_current_flod.append(pic_label)\n",
    "        else:\n",
    "            all_selfies_current_flod.append(pic_label)\n",
    "\n",
    "    allBio_ofEachPerson_separated_into_sublists = cluster_by_similarity(all_bios_current_flod, \"bio\")\n",
    "    allSelfie_ofEachPerson_separated_into_sublists = cluster_by_similarity(all_selfies_current_flod, \"selfie\")\n",
    "    \n",
    "    selectedBios_ofAll = []\n",
    "    selectedSelfies_ofAll = []\n",
    "    \n",
    "    for bioCluster in allBio_ofEachPerson_separated_into_sublists:\n",
    "        selectedBios_ofAll.append(np.random.choice(bioCluster, 12, replace=False)) #12\n",
    "        \n",
    "    for person in selectedBios_ofAll:\n",
    "        for bio in person:\n",
    "            dataset_collectedRandomly[bio] = flod[bio]\n",
    "            \n",
    "            \n",
    "    \n",
    "    for selfieCluster in allSelfie_ofEachPerson_separated_into_sublists:\n",
    "        selectedSelfies_ofAll.append(np.random.choice(selfieCluster, 3, replace=False)) #3\n",
    "        \n",
    "    for person in selectedSelfies_ofAll:\n",
    "        for selfie in person:\n",
    "            dataset_collectedRandomly[selfie] = flod[selfie]\n",
    "    "
   ]
  },
  {
   "cell_type": "code",
   "execution_count": null,
   "id": "b04ae013",
   "metadata": {},
   "outputs": [],
   "source": [
    "len(dataset_collectedRandomly)"
   ]
  },
  {
   "cell_type": "raw",
   "id": "0bd196cc",
   "metadata": {},
   "source": [
    "with open('dataset_randomlySelected.pkl', 'wb') as file:\n",
    "    pickle.dump(dataset_collectedRandomly, file)"
   ]
  },
  {
   "cell_type": "code",
   "execution_count": null,
   "id": "1a2b4db1",
   "metadata": {},
   "outputs": [],
   "source": [
    "with open('dataset_randomlySelected.pickle', 'wb') as file:\n",
    "    pickle.dump(dataset_collectedRandomly, file)"
   ]
  },
  {
   "cell_type": "code",
   "execution_count": null,
   "id": "b702bcb3",
   "metadata": {},
   "outputs": [],
   "source": []
  }
 ],
 "metadata": {
  "kernelspec": {
   "display_name": "Python 3 (ipykernel)",
   "language": "python",
   "name": "python3"
  },
  "language_info": {
   "codemirror_mode": {
    "name": "ipython",
    "version": 3
   },
   "file_extension": ".py",
   "mimetype": "text/x-python",
   "name": "python",
   "nbconvert_exporter": "python",
   "pygments_lexer": "ipython3",
   "version": "3.9.0"
  }
 },
 "nbformat": 4,
 "nbformat_minor": 5
}
