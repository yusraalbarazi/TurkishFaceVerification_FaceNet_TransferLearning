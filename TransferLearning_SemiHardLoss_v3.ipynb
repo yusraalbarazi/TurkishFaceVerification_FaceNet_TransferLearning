{
 "cells": [
  {
   "cell_type": "code",
   "execution_count": null,
   "id": "5001a28d",
   "metadata": {},
   "outputs": [],
   "source": [
    "import tensorflow as tf\n",
    "from tensorflow.keras.models import Sequential\n",
    "from tensorflow.keras.layers import Dense, Conv2D, Flatten, Dropout, MaxPooling2D, Reshape, Input, GlobalAveragePooling2D, LayerNormalization\n",
    "from tensorflow.keras.preprocessing.image import ImageDataGenerator, img_to_array, load_img\n",
    "from tensorflow.keras.applications import   DenseNet121\n",
    "from tensorflow.keras.models import Model\n",
    "\n",
    "import os\n",
    "import numpy as np\n",
    "import matplotlib.pyplot as plt\n",
    "import shutil\n",
    "from  shutil import copyfile\n",
    "import random\n",
    "\n",
    "from sklearn.metrics import confusion_matrix, auc, roc_curve\n",
    "import seaborn as sns\n",
    "\n",
    "import tensorflow_addons as tfa\n",
    "import cv2\n",
    "import time\n",
    "\n",
    "from keras import backend as K\n",
    "from keras.models import Model\n",
    "from keras.layers import Activation\n",
    "from keras.layers import BatchNormalization\n",
    "from keras.layers import Concatenate\n",
    "from keras.layers import Lambda\n",
    "from keras.layers import add\n",
    "from keras.layers import LeakyReLU\n"
   ]
  },
  {
   "cell_type": "code",
   "execution_count": null,
   "id": "bf43a586",
   "metadata": {},
   "outputs": [],
   "source": [
    "def _normalize_img(img, label):\n",
    "    mean, std = tf.math.reduce_mean(img), tf.math.reduce_std(img)\n",
    "    img = (img - mean) / std\n",
    "    #img = tf.cast(img, tf.float32) / 255.\n",
    "    #img -= 127.5\n",
    "    #img /= 128\n",
    "    #img /= 127.5\n",
    "    #img -= 1\n",
    "    return (img, label)\n",
    "\n",
    "def _resize_image(image):\n",
    "    # Resize the image to a new size\n",
    "    image = tf.image.resize(image,(160, 160))\n",
    "    return image"
   ]
  },
  {
   "cell_type": "markdown",
   "id": "0d879fab",
   "metadata": {},
   "source": [
    "<h1> Preparing Trainig data</h1>"
   ]
  },
  {
   "cell_type": "code",
   "execution_count": null,
   "id": "9c76ebfb",
   "metadata": {},
   "outputs": [],
   "source": [
    "import pickle\n",
    "res = 'E:\\\\Thesis\\\\deepface\\\\performance_results\\\\First_Repetition\\\\dataset_randomlySelected_4Flod_Repetition1_1sttrain_43.pickle'\n",
    "with open(res, \"rb\") as f:\n",
    "    flod_1 = pickle.load(f)\n",
    "    "
   ]
  },
  {
   "cell_type": "code",
   "execution_count": null,
   "id": "c90bff39",
   "metadata": {},
   "outputs": [],
   "source": [
    "labels_training = list()\n",
    "for pic in flod_1:\n",
    "    if \"out\" in pic:\n",
    "        index = pic.split(\"\\\\\")[-1].split(\"_\")[0][1:] + \"1\"\n",
    "        labels_training.append(int(index))\n",
    "    else:\n",
    "        index = pic.split(\"\\\\\")[-1].split(\"_\")[0][1:] + \"0\"\n",
    "        labels_training.append(int(index))\n"
   ]
  },
  {
   "cell_type": "code",
   "execution_count": null,
   "id": "8f8889c8",
   "metadata": {},
   "outputs": [],
   "source": [
    "trainingSet_tensor = list(flod_1.values())"
   ]
  },
  {
   "cell_type": "code",
   "execution_count": null,
   "id": "7a49624d",
   "metadata": {},
   "outputs": [],
   "source": [
    "list(flod_1.keys())[18000]"
   ]
  },
  {
   "cell_type": "code",
   "execution_count": null,
   "id": "8ea677fb",
   "metadata": {},
   "outputs": [],
   "source": [
    "labels_training[18000]"
   ]
  },
  {
   "cell_type": "raw",
   "id": "9627b39a",
   "metadata": {},
   "source": [
    "img = trainingSet_tensor[18000]\n",
    "print(img.shape)\n",
    "mean, std = tf.math.reduce_mean(img), tf.math.reduce_std(img)\n",
    "img = (img - mean) / std\n",
    "plt.imshow(img)\n",
    "plt.show()"
   ]
  },
  {
   "cell_type": "code",
   "execution_count": null,
   "id": "cc1e983e",
   "metadata": {},
   "outputs": [],
   "source": [
    "print(len(labels_training))\n",
    "print(len(trainingSet_tensor))\n"
   ]
  },
  {
   "cell_type": "code",
   "execution_count": null,
   "id": "e3b2c1c6",
   "metadata": {},
   "outputs": [],
   "source": [
    "flod_1 = None"
   ]
  },
  {
   "cell_type": "markdown",
   "id": "a6d5ef86",
   "metadata": {},
   "source": [
    "<h1>New technology</h1>"
   ]
  },
  {
   "cell_type": "raw",
   "id": "9820daa8",
   "metadata": {},
   "source": [
    "# Save the dataset to a local directory\n",
    "trainingDataset = tf.data.Dataset.from_tensor_slices((trainingSet_tensor, labels_training))"
   ]
  },
  {
   "cell_type": "raw",
   "id": "c2a05824",
   "metadata": {},
   "source": [
    "random.seed(42)\n",
    "np.random.seed(42)\n",
    "tf.random.set_seed(42)"
   ]
  },
  {
   "cell_type": "code",
   "execution_count": null,
   "id": "9a32c884",
   "metadata": {},
   "outputs": [],
   "source": [
    "trainingDataset = tf.data.Dataset.zip((tf.data.Dataset.from_tensor_slices(trainingSet_tensor),tf.data.Dataset.from_tensor_slices(labels_training)))"
   ]
  },
  {
   "cell_type": "code",
   "execution_count": null,
   "id": "601cff3d",
   "metadata": {},
   "outputs": [],
   "source": [
    "batch=512\n",
    "trainingDataset = trainingDataset.shuffle(buffer_size=10000)\n",
    "trainingDataset = trainingDataset.map(_normalize_img)"
   ]
  },
  {
   "cell_type": "code",
   "execution_count": null,
   "id": "fcab851c",
   "metadata": {},
   "outputs": [],
   "source": [
    "trainingDataset = trainingDataset.batch(batch)\n",
    "trainingDataset = trainingDataset.prefetch(tf.data.AUTOTUNE)\n",
    "#trainingDataset = trainingDataset.prefetch(buffer_size=15)"
   ]
  },
  {
   "cell_type": "code",
   "execution_count": null,
   "id": "3935693e",
   "metadata": {},
   "outputs": [],
   "source": [
    "from deepface.basemodels import Facenet512,Facenet\n",
    "model = Facenet.loadModel()\n",
    "print(model.input_shape)\n",
    "print(model.output_shape)\n",
    "print(len(model.layers))"
   ]
  },
  {
   "cell_type": "raw",
   "id": "dd64621b",
   "metadata": {},
   "source": [
    "from keras.models import load_model\n",
    "from deepface.basemodels import Facenet512,Facenet\n",
    "model = load_model(f\"performance_results\\\\Third_Repetition\\\\1_Facenet_OptSGD0.001_Batch512_Epoch10_prefetch15_Semihard_4thTrain.h5\")\n",
    "#model.summary()\n"
   ]
  },
  {
   "cell_type": "code",
   "execution_count": null,
   "id": "5192ac68",
   "metadata": {},
   "outputs": [],
   "source": [
    "for layer in model.layers[:-20]:\n",
    "    layer.trainable = False "
   ]
  },
  {
   "cell_type": "code",
   "execution_count": null,
   "id": "18208ff8",
   "metadata": {},
   "outputs": [],
   "source": [
    "model.summary()"
   ]
  },
  {
   "cell_type": "code",
   "execution_count": null,
   "id": "4fc3310e",
   "metadata": {},
   "outputs": [],
   "source": [
    "from tensorflow.keras.layers import PReLU\n",
    "\n",
    "# Replace ReLU activations with Leaky ReLU in the last 20 layers\n",
    "for layer in model.layers[-20:]:\n",
    "    if isinstance(layer, tf.keras.layers.Activation) and layer.get_config()['activation'] == 'relu':\n",
    "        layer_index = model.layers.index(layer)\n",
    "        \n",
    "        # Create new LeakyReLU layer\n",
    "        model.layers[layer_index].activation = PReLU(alpha_initializer=\"Zeros\",name=layer.name)\n",
    "        print(model.layers[layer_index].activation)\n",
    "        print(layer_index)\n"
   ]
  },
  {
   "cell_type": "code",
   "execution_count": null,
   "id": "63758ffe",
   "metadata": {},
   "outputs": [],
   "source": [
    "model.layers[438].get_config()"
   ]
  },
  {
   "cell_type": "code",
   "execution_count": null,
   "id": "fea3b790",
   "metadata": {},
   "outputs": [],
   "source": [
    "lr=0.1\n",
    "epsilon=1e-08\n",
    "epochs=50"
   ]
  },
  {
   "cell_type": "code",
   "execution_count": null,
   "id": "7b7ae0f1",
   "metadata": {},
   "outputs": [],
   "source": [
    "lr_schedule= tf.keras.callbacks.LearningRateScheduler(lambda epoch:1e-4 * 10**(epoch / 20))\n",
    "early_stop = tf.keras.callbacks.EarlyStopping(monitor='loss', patience=10, restore_best_weights=True)"
   ]
  },
  {
   "cell_type": "code",
   "execution_count": null,
   "id": "f03a0153",
   "metadata": {},
   "outputs": [],
   "source": [
    "model.compile(optimizer=tf.keras.optimizers.SGD(learning_rate=lr),  loss=tfa.losses.TripletSemiHardLoss(margin=0.2))"
   ]
  },
  {
   "cell_type": "code",
   "execution_count": null,
   "id": "dcecdb40",
   "metadata": {},
   "outputs": [],
   "source": [
    "history = model.fit(trainingDataset, epochs=epochs, callbacks=[lr_schedule, early_stop])"
   ]
  },
  {
   "cell_type": "code",
   "execution_count": null,
   "id": "3aed1c7d",
   "metadata": {},
   "outputs": [],
   "source": [
    "#!!!!!!!!!!!!!!!!!!!!!!!!!!!!!!!!!!!!!!!!!!!!!!!!!!!!!!!!!!!!!!!!!!!!!!!!!!!!!!!!!!!!!!!!!!!!!!!!!\n",
    "counter = 0\n",
    "prefetch = \"AUTOTUNE\"\n"
   ]
  },
  {
   "cell_type": "code",
   "execution_count": null,
   "id": "9540ec39",
   "metadata": {},
   "outputs": [],
   "source": [
    "h5_model = f\"performance_results\\\\First_Repetition\\\\{counter}_Facenet_OptSGD{lr}_Batch{batch}_prefetch{prefetch}_Semihard_1stTrain.h5\"\n",
    "model.save(h5_model)\n"
   ]
  },
  {
   "cell_type": "code",
   "execution_count": null,
   "id": "82bfc1d2",
   "metadata": {},
   "outputs": [],
   "source": [
    "loss = history.history['loss']\n",
    "plt.figure(figsize=(8,8))\n",
    "plt.subplot(2,1,1)\n",
    "plt.plot(loss, label='Loss')\n",
    "#plt.ylim(0,0)\n",
    "plt.xlabel('epoch')\n",
    "plt.savefig(f\"performance_results\\\\First_Repetition\\\\Loss_Facenet_OptSGD{lr}_Batch{batch}_prefetch{prefetch}_Semihard_1stTrain.jpg\")\n",
    "plt.close()\n",
    "plt.show()\n",
    "counter += 1\n"
   ]
  },
  {
   "cell_type": "code",
   "execution_count": null,
   "id": "d96a91e5",
   "metadata": {},
   "outputs": [],
   "source": []
  }
 ],
 "metadata": {
  "kernelspec": {
   "display_name": "Python 3 (ipykernel)",
   "language": "python",
   "name": "python3"
  },
  "language_info": {
   "codemirror_mode": {
    "name": "ipython",
    "version": 3
   },
   "file_extension": ".py",
   "mimetype": "text/x-python",
   "name": "python",
   "nbconvert_exporter": "python",
   "pygments_lexer": "ipython3",
   "version": "3.9.0"
  }
 },
 "nbformat": 4,
 "nbformat_minor": 5
}
